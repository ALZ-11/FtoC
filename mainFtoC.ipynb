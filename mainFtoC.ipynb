{
 "cells": [
  {
   "cell_type": "markdown",
   "metadata": {},
   "source": [
    "### Problem Statement\n",
    "\n",
    "The standard formula to convert Fahrenheit (F) to Celsius (C) is: \n",
    "\n",
    "$$\n",
    "C = (F - 32) \\times \\frac{5}{9}\n",
    "$$\n",
    "\n",
    "However, calculating $\\frac{5}{9}$ mentally can be cumbersome, especially without a calculator. To simplify, I developed an approximation that replaces $\\frac{5}{9}$ with $\\frac{1}{2}$, resulting in:\n",
    "\n",
    "$$\n",
    "C \\approx (F - 32) \\times \\frac{1}{2}\n",
    "$$\n",
    "\n",
    "This approximation enables a quick, rough estimate of Celsius from Fahrenheit. While this approach can be helpful for fast calculations, it sometimes deviates noticeably from the accurate value, particularly at higher absolute temperatures.\n",
    "\n",
    "For example:\n",
    "- **107°F** converts accurately to **42°C** using the standard formula, which, in my hometown, we consider \"scorching hot.\" However, the approximation gives **37.5°C**—a significant drop that we would refer to as a \"cooler scorching,\" illustrating a distinct difference in perceived temperature.\n",
    "- **50°F** accurately converts to **10°C**, while the approximation gives **9°C**. This minor difference is often acceptable, as weather apps, for instance, may display temperatures within ±1°C as \"feels like\" values.\n",
    "\n",
    "Clearly, this approximation performs better at lower Fahrenheit values, where the difference between $\\frac{5}{9}$ and $\\frac{1}{2}$ is less impactful. As Fahrenheit values increase in absolute terms, however, the errors become more pronounced, which we will demonstrate below.\n",
    "\n",
    "### Objective\n",
    "\n",
    "In this project, we aim to explore and analyze this simple yet interesting approximation. We will evaluate its accuracy across different temperature ranges, identifying where it performs adequately and where it introduces significant discrepancies. This exploration will not only quantify the errors but will also provide insights into the practical utility of the approximation across typical temperature ranges.\n"
   ]
  },
  {
   "cell_type": "markdown",
   "metadata": {},
   "source": [
    "To investigate the differences between the standard and approximate methods of converting Fahrenheit (°F) to Celsius (°C), we will start by defining two functions:\n",
    "\n",
    "1. **Accurate Conversion Function**: This function will use the standard formula:\n",
    "   \n",
    "   $$\n",
    "   C = (F - 32) \\times \\frac{5}{9}\n",
    "   $$\n",
    "   \n",
    "   It will provide the precise Celsius equivalent for any Fahrenheit input.\n",
    "\n",
    "2. **Approximate Conversion Function**: This function will use the simplified approximation:\n",
    "\n",
    "   $$\n",
    "   C \\approx (F - 32) \\times \\frac{1}{2}\n",
    "   $$\n",
    "   \n",
    "   This will allow us to quickly estimate Celsius values, although it may introduce error, especially at higher temperatures."
   ]
  },
  {
   "cell_type": "code",
   "execution_count": 1,
   "metadata": {},
   "outputs": [
    {
     "name": "stdout",
     "output_type": "stream",
     "text": [
      "107°F is equivalent to 42°C.\n",
      "50°F is equivalent to 10°C.\n"
     ]
    }
   ],
   "source": [
    "#\n",
    "\n",
    "hotF = 107\n",
    "coolF = 50\n",
    "\n",
    "def FtoC(degF):\n",
    "\treturn round((degF - 32) * 5/9)\n",
    "\n",
    "print(f\"{hotF}°F is equivalent to {FtoC(hotF)}°C.\")\n",
    "print(f\"{coolF}°F is equivalent to {FtoC(coolF)}°C.\")"
   ]
  },
  {
   "cell_type": "code",
   "execution_count": 2,
   "metadata": {},
   "outputs": [
    {
     "name": "stdout",
     "output_type": "stream",
     "text": [
      "107°F is approximately equivalent to 38°C.\n",
      "50°F is approximately equivalent to 9°C.\n"
     ]
    }
   ],
   "source": [
    "def approxFtoC(degF):\n",
    "\treturn round((degF - 32) * 1/2)\n",
    "\n",
    "print(f\"{hotF}°F is approximately equivalent to {approxFtoC(hotF)}°C.\")\n",
    "print(f\"{coolF}°F is approximately equivalent to {approxFtoC(coolF)}°C.\")"
   ]
  }
 ],
 "metadata": {
  "kernelspec": {
   "display_name": "base",
   "language": "python",
   "name": "python3"
  },
  "language_info": {
   "codemirror_mode": {
    "name": "ipython",
    "version": 3
   },
   "file_extension": ".py",
   "mimetype": "text/x-python",
   "name": "python",
   "nbconvert_exporter": "python",
   "pygments_lexer": "ipython3",
   "version": "3.12.4"
  }
 },
 "nbformat": 4,
 "nbformat_minor": 2
}
